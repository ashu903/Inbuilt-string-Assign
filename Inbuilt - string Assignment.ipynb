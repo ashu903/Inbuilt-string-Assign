{
 "cells": [
  {
   "cell_type": "code",
   "execution_count": 1,
   "id": "22a123cf-aff8-4eff-b714-4b99c6c48316",
   "metadata": {},
   "outputs": [
    {
     "name": "stdout",
     "output_type": "stream",
     "text": [
      "Length of the string: 13\n"
     ]
    }
   ],
   "source": [
    "# 1. What is the purpose of the len() function in Python, and how can it be used with strings?\n",
    "\n",
    "# Ans>> The len() function in Python is used to determine the length of a sequence or collection, such as a (string, list, tuple, dictionary,) etc\n",
    "# When used with strings specifically, len() returns the number of characters in the string.\n",
    "my_string = \"Hello, World!\"\n",
    "length = len(my_string)\n",
    "print(\"Length of the string:\", length)  \n",
    "\n"
   ]
  },
  {
   "cell_type": "code",
   "execution_count": 2,
   "id": "2b9569bb-8d69-4e84-9cbd-d5ee0b5584fb",
   "metadata": {},
   "outputs": [
    {
     "name": "stdout",
     "output_type": "stream",
     "text": [
      "Hello, World!\n"
     ]
    }
   ],
   "source": [
    "# 2. How can you concatenate two or more strings in Python, and can you provide an example of string concatenation? \n",
    "# Ans>> In Python, you can concatenate (combine) two or more strings using the + operator or by using the str.join() method. \n",
    "string1 = \"Hello\"\n",
    "string2 = \"World\"\n",
    "concatenated_string = string1 + \", \" + string2 + \"!\"\n",
    "print(concatenated_string) \n"
   ]
  },
  {
   "cell_type": "code",
   "execution_count": 4,
   "id": "2292391d-1521-4eb1-b7f2-d9334996bb56",
   "metadata": {},
   "outputs": [
    {
     "name": "stdout",
     "output_type": "stream",
     "text": [
      "World!\n",
      "Hello\n",
      "World\n",
      "Hlo ol!\n"
     ]
    }
   ],
   "source": [
    "# 3. What is string slicing in Python, and how can you extract a portion of a string using this method?\n",
    "\n",
    "# Ans>> The syntax for string slicing is string[start:end:step]\n",
    "# String slicing in Python refers to extracting a portion of a string by specifying a range of indices. \n",
    "my_string = \"Hello, World!\"\n",
    "substring = my_string[7:]\n",
    "print(substring)  \n",
    "substring = my_string[:5]\n",
    "print(substring) \n",
    "substring = my_string[7:12]\n",
    "print(substring)  \n",
    "substring = my_string[::2]\n",
    "print(substring) \n"
   ]
  },
  {
   "cell_type": "code",
   "execution_count": 5,
   "id": "e2d0bb75-eeac-4f94-8749-37b253a7d2d0",
   "metadata": {},
   "outputs": [
    {
     "name": "stdout",
     "output_type": "stream",
     "text": [
      "HELLO, WORLD!\n",
      "hello, world!\n"
     ]
    }
   ],
   "source": [
    "# 4. How can you change the case of a string in Python, and can you provide examples of both making a string  all uppercase and all lowercase?\n",
    "# Ans>> \n",
    "# In Python, you can change the case of a string using the upper() and lower() methods. \n",
    "my_string = \"Hello, World!\"\n",
    "uppercase_string = my_string.upper()\n",
    "print(uppercase_string)  \n",
    "lowercase_string = my_string.lower()\n",
    "print(lowercase_string)\n",
    "\n"
   ]
  },
  {
   "cell_type": "code",
   "execution_count": 6,
   "id": "b4c30e0f-3ea5-4daf-a435-712ab1a919c9",
   "metadata": {},
   "outputs": [
    {
     "name": "stdout",
     "output_type": "stream",
     "text": [
      "['apple', 'banana', 'orange', 'grape']\n"
     ]
    }
   ],
   "source": [
    "# 5. What does the split() method do in Python, and how can you split a string using a specific delimiter?\n",
    "# Ans>>\n",
    "# In Python, the split() method is used to split a string into a list of substrings based on a specified delimiter. \n",
    "# By default, the delimiter is a space character, but you can specify a different delimiter if needed.\n",
    "\n",
    "my_string = \"apple,banana,orange,grape\"\n",
    "# Split the string using a comma as the delimiter\n",
    "fruits_list = my_string.split(\",\")\n",
    "print(fruits_list)  \n"
   ]
  },
  {
   "cell_type": "code",
   "execution_count": null,
   "id": "e3f1bbe8-12ed-4325-9809-8fea3dd0997b",
   "metadata": {},
   "outputs": [],
   "source": []
  }
 ],
 "metadata": {
  "kernelspec": {
   "display_name": "Python 3 (ipykernel)",
   "language": "python",
   "name": "python3"
  },
  "language_info": {
   "codemirror_mode": {
    "name": "ipython",
    "version": 3
   },
   "file_extension": ".py",
   "mimetype": "text/x-python",
   "name": "python",
   "nbconvert_exporter": "python",
   "pygments_lexer": "ipython3",
   "version": "3.10.8"
  }
 },
 "nbformat": 4,
 "nbformat_minor": 5
}
